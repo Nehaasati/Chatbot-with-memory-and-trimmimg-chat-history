{
 "cells": [
  {
   "cell_type": "code",
   "execution_count": 78,
   "id": "fbee45df",
   "metadata": {},
   "outputs": [],
   "source": [
    "import os\n",
    "import getpass\n",
    "from dotenv import load_dotenv\n",
    "from langchain_groq import ChatGroq\n",
    "from langchain_core.messages import HumanMessage,SystemMessage, trim_messages\n",
    "from langchain_core.messages import AIMessage\n",
    "from langchain_core.chat_history import BaseChatMessageHistory\n",
    "from langchain_community.chat_message_histories import ChatMessageHistory\n",
    "from langchain_core.runnables.history import RunnableWithMessageHistory"
   ]
  },
  {
   "cell_type": "code",
   "execution_count": 79,
   "id": "46e8cef3",
   "metadata": {},
   "outputs": [
    {
     "name": "stderr",
     "output_type": "stream",
     "text": [
      "python-dotenv could not parse statement starting at line 1\n",
      "python-dotenv could not parse statement starting at line 6\n",
      "python-dotenv could not parse statement starting at line 11\n"
     ]
    }
   ],
   "source": [
    "load_dotenv()\n",
    "os.environ[\"Groq_API_KEY\"]=os.getenv(\"Groq_API_KEY\")\n",
    "os.environ[\"LANGCHAIN_API_KEY\"]=os.getenv(\"LANGCHAIN_API_KEY\")\n"
   ]
  },
  {
   "cell_type": "code",
   "execution_count": 80,
   "id": "d4503135",
   "metadata": {},
   "outputs": [
    {
     "data": {
      "text/plain": [
       "ChatGroq(client=<groq.resources.chat.completions.Completions object at 0x0000024C21E17D90>, async_client=<groq.resources.chat.completions.AsyncCompletions object at 0x0000024C06E2E290>, model_name='Gemma2-9b-It', model_kwargs={}, groq_api_key=SecretStr('**********'))"
      ]
     },
     "execution_count": 80,
     "metadata": {},
     "output_type": "execute_result"
    }
   ],
   "source": [
    "model=ChatGroq(model=\"Gemma2-9b-It\")\n",
    "model"
   ]
  },
  {
   "cell_type": "code",
   "execution_count": 81,
   "id": "a1987978",
   "metadata": {},
   "outputs": [
    {
     "data": {
      "text/plain": [
       "AIMessage(content=\"Hi Neha, it's nice to meet you!\\n\\nThat's awesome that you're a software engineer in Sweden.  \\n\\nIs there anything specific you'd like to chat about today? Maybe your work, life in Sweden, or something else entirely?  I'm happy to listen and chat! 😊  \\n\\n\", additional_kwargs={}, response_metadata={'token_usage': {'completion_tokens': 71, 'prompt_tokens': 26, 'total_tokens': 97, 'completion_time': 0.129090909, 'prompt_time': 0.003310744, 'queue_time': 0.18814071899999998, 'total_time': 0.132401653}, 'model_name': 'Gemma2-9b-It', 'system_fingerprint': 'fp_10c08bf97d', 'service_tier': 'on_demand', 'finish_reason': 'stop', 'logprobs': None}, id='run--ea27fc2b-6141-4a7c-98de-3530a5d8615b-0', usage_metadata={'input_tokens': 26, 'output_tokens': 71, 'total_tokens': 97})"
      ]
     },
     "execution_count": 81,
     "metadata": {},
     "output_type": "execute_result"
    }
   ],
   "source": [
    "model.invoke([HumanMessage(content=\"Hi! my name is neha and i am software engineer and i live in sweden\")])\n"
   ]
  },
  {
   "cell_type": "code",
   "execution_count": 82,
   "id": "f4bdbafd",
   "metadata": {},
   "outputs": [
    {
     "data": {
      "text/plain": [
       "AIMessage(content=\"As an AI, I have no access to your personal information, including your location. To find out where you live, you can check:\\n\\n* Your address on official documents like your driver's license or passport.\\n* Your mail or bills.\\n* A map app on your phone or computer.\\n\", additional_kwargs={}, response_metadata={'token_usage': {'completion_tokens': 65, 'prompt_tokens': 14, 'total_tokens': 79, 'completion_time': 0.118181818, 'prompt_time': 0.003388483, 'queue_time': 0.250038646, 'total_time': 0.121570301}, 'model_name': 'Gemma2-9b-It', 'system_fingerprint': 'fp_10c08bf97d', 'service_tier': 'on_demand', 'finish_reason': 'stop', 'logprobs': None}, id='run--8a862382-99bb-49e2-988a-e01d4f842ee6-0', usage_metadata={'input_tokens': 14, 'output_tokens': 65, 'total_tokens': 79})"
      ]
     },
     "execution_count": 82,
     "metadata": {},
     "output_type": "execute_result"
    }
   ],
   "source": [
    "model.invoke([HumanMessage(content=\"where do i live?\")])"
   ]
  },
  {
   "cell_type": "code",
   "execution_count": 83,
   "id": "d6615c1f",
   "metadata": {},
   "outputs": [
    {
     "data": {
      "text/plain": [
       "AIMessage(content=\"You told me you live in Sweden! 😊  \\n\\nIs there anything else you'd like to talk about?  Perhaps you could tell me about what it's like living in Sweden? 🇸🇪  \\n\", additional_kwargs={}, response_metadata={'token_usage': {'completion_tokens': 46, 'prompt_tokens': 51, 'total_tokens': 97, 'completion_time': 0.083636364, 'prompt_time': 0.003704423, 'queue_time': 0.18577380799999998, 'total_time': 0.087340787}, 'model_name': 'Gemma2-9b-It', 'system_fingerprint': 'fp_10c08bf97d', 'service_tier': 'on_demand', 'finish_reason': 'stop', 'logprobs': None}, id='run--f450ba8d-daa9-4f81-bafc-9394c7d9bed9-0', usage_metadata={'input_tokens': 51, 'output_tokens': 46, 'total_tokens': 97})"
      ]
     },
     "execution_count": 83,
     "metadata": {},
     "output_type": "execute_result"
    }
   ],
   "source": [
    "model.invoke(\n",
    "    [\n",
    "        HumanMessage(content=\"Hi i am neha and i am live in sweden\"),\n",
    "        AIMessage(content = \"Hi Neha, nice to meet you!i see that you live in seden\"),\n",
    "        HumanMessage(content=\"where i live?\")\n",
    "    ]\n",
    ")\n"
   ]
  },
  {
   "cell_type": "code",
   "execution_count": 84,
   "id": "a95638fa",
   "metadata": {},
   "outputs": [
    {
     "name": "stdout",
     "output_type": "stream",
     "text": [
      "bound=RunnableBinding(bound=RunnableBinding(bound=RunnableLambda(_enter_history), kwargs={}, config={'run_name': 'load_history'}, config_factories=[])\n",
      "| RunnableBinding(bound=RunnableLambda(_call_runnable_sync), kwargs={}, config={'run_name': 'check_sync_or_async'}, config_factories=[]), kwargs={}, config={'run_name': 'RunnableWithMessageHistory'}, config_factories=[]) kwargs={} config={} config_factories=[] get_session_history=<function get_chat_history at 0x0000024C1FF9AD40> history_factory_config=[ConfigurableFieldSpec(id='session_id', annotation=<class 'str'>, name='Session ID', description='Unique identifier for a session.', default='', is_shared=True, dependencies=None)]\n"
     ]
    }
   ],
   "source": [
    "store = {}\n",
    "def get_chat_history(session_id:str)-> BaseChatMessageHistory:\n",
    "    if session_id not in store:\n",
    "        store[session_id] =ChatMessageHistory(session_id=session_id)\n",
    "    return store[session_id]\n",
    "    \n",
    "with_history_message = RunnableWithMessageHistory(model,get_chat_history)    \n",
    "print(with_history_message)"
   ]
  },
  {
   "cell_type": "code",
   "execution_count": 85,
   "id": "be0f5d22",
   "metadata": {},
   "outputs": [],
   "source": [
    "config ={\"configurable\":{\"session_id\":\"neha1\"}}"
   ]
  },
  {
   "cell_type": "code",
   "execution_count": 86,
   "id": "28b77252",
   "metadata": {},
   "outputs": [
    {
     "data": {
      "text/plain": [
       "AIMessage(content=\"Hi Neha, \\n\\nIt's nice to meet you! \\n\\nThat's fascinating, relocating to Sweden in 2022. What brought you to the country? \\n\\nAs a fellow software engineer, I'm always interested to hear about people's experiences in different tech hubs. Are you enjoying the Swedish software scene so far?\\n\", additional_kwargs={}, response_metadata={'token_usage': {'completion_tokens': 76, 'prompt_tokens': 43, 'total_tokens': 119, 'completion_time': 0.138181818, 'prompt_time': 0.005018727, 'queue_time': 0.184303072, 'total_time': 0.143200545}, 'model_name': 'Gemma2-9b-It', 'system_fingerprint': 'fp_10c08bf97d', 'service_tier': 'on_demand', 'finish_reason': 'stop', 'logprobs': None}, id='run--8dbf3a91-2f72-4cf9-9142-95ff8b7c846c-0', usage_metadata={'input_tokens': 43, 'output_tokens': 76, 'total_tokens': 119})"
      ]
     },
     "execution_count": 86,
     "metadata": {},
     "output_type": "execute_result"
    }
   ],
   "source": [
    "response=with_history_message.invoke(\n",
    "    [HumanMessage(content =\"my name is neha  i am software engineer and i live in sweden , i am 36 yr old, 2022 i relocate to sweden.\")],\n",
    "    config=config\n",
    ")\n",
    "response"
   ]
  },
  {
   "cell_type": "code",
   "execution_count": 87,
   "id": "14e477dd",
   "metadata": {},
   "outputs": [],
   "source": [
    "response=with_history_message.invoke(\n",
    "    [HumanMessage(content =\"where i live?\")],\n",
    "    config=config\n",
    ")\n"
   ]
  },
  {
   "cell_type": "code",
   "execution_count": 88,
   "id": "4c2b3fc9",
   "metadata": {},
   "outputs": [
    {
     "data": {
      "text/plain": [
       "AIMessage(content=\"Hello Jarry! 👋 \\n\\nIt's nice to meet you. \\n\\nWhat can I do for you today? 😊\\n\", additional_kwargs={}, response_metadata={'token_usage': {'completion_tokens': 29, 'prompt_tokens': 13, 'total_tokens': 42, 'completion_time': 0.052727273, 'prompt_time': 0.001883711, 'queue_time': 0.18694559, 'total_time': 0.054610984}, 'model_name': 'Gemma2-9b-It', 'system_fingerprint': 'fp_10c08bf97d', 'service_tier': 'on_demand', 'finish_reason': 'stop', 'logprobs': None}, id='run--3e211d38-083e-490a-8cd2-2ed225e6dcfc-0', usage_metadata={'input_tokens': 13, 'output_tokens': 29, 'total_tokens': 42})"
      ]
     },
     "execution_count": 88,
     "metadata": {},
     "output_type": "execute_result"
    }
   ],
   "source": [
    "#change config session id\n",
    "\n",
    "config1 ={\"configurable\":{\"session_id\":\"neha2\"}}\n",
    "response1=with_history_message.invoke(\n",
    "    [HumanMessage(content=\"i an jarry\")],\n",
    "    config=config1\n",
    ")\n",
    "response1"
   ]
  },
  {
   "cell_type": "code",
   "execution_count": 89,
   "id": "19f8f0df",
   "metadata": {},
   "outputs": [
    {
     "data": {
      "text/plain": [
       "'Your name is Jarry!  😁 \\n\\nI remember from our earlier conversation.  \\n\\n\\nIs there anything else I can help you with?\\n'"
      ]
     },
     "execution_count": 89,
     "metadata": {},
     "output_type": "execute_result"
    }
   ],
   "source": [
    "response=with_history_message.invoke(\n",
    "    [HumanMessage(content=\"Whats my name\")],\n",
    "    config=config1\n",
    ")\n",
    "response.content"
   ]
  },
  {
   "cell_type": "code",
   "execution_count": 91,
   "id": "3fc7234d",
   "metadata": {},
   "outputs": [
    {
     "data": {
      "text/plain": [
       "[SystemMessage(content='You are a helpful assistant.', additional_kwargs={}, response_metadata={}),\n",
       " HumanMessage(content='i am 36 yr old. i love ice cream and i live in sweden.i relocated in 2022 from india', additional_kwargs={}, response_metadata={}),\n",
       " AIMessage(content=\"wow! that's great to know\", additional_kwargs={}, response_metadata={})]"
      ]
     },
     "execution_count": 91,
     "metadata": {},
     "output_type": "execute_result"
    }
   ],
   "source": [
    "from langchain_core.messages import SystemMessage,trim_messages\n",
    "trimmer =trim_messages(\n",
    "    max_tokens=60,\n",
    "    strategy=\"last\",\n",
    "    token_counter=model,\n",
    "    include_system=True,\n",
    "    allow_partial=False,\n",
    "    start_on=\"human\"\n",
    ")\n",
    "messages =[\n",
    " SystemMessage(content=\"You are a helpful assistant.\"),\n",
    " HumanMessage(content = \"HI! my name is neha and i am sofware engineer\"),  \n",
    " AIMessage(content=\"Hi!Neha, nice to meet you! I see that you are a software engineer.\"),\n",
    " HumanMessage(content=\"i am 36 yr old. i love ice cream and i live in sweden.i relocated in 2022 from india\"),\n",
    " AIMessage(content=\"wow! that's great to know\"),\n",
    "\n",
    "]\n",
    "trimmer.invoke(messages)"
   ]
  },
  {
   "cell_type": "code",
   "execution_count": 92,
   "id": "ab721665",
   "metadata": {},
   "outputs": [
    {
     "data": {
      "text/plain": [
       "'Your name is Jarry!  😁 \\n\\nI remember from our earlier conversation.  \\n\\n\\nIs there anything else I can help you with?\\n'"
      ]
     },
     "execution_count": 92,
     "metadata": {},
     "output_type": "execute_result"
    }
   ],
   "source": [
    "from operator import itemgetter\n",
    "from langchain_core.runnables import RunnablePassthrough\n",
    "chain =( RunnablePassthrough.assign(messages= itemgetter(\"messages\")|trimmer)\n",
    "        |prompt\n",
    "        |model\n",
    ")\n",
    "chain.invoke({\"messages\":messages+[HumanMessage(content =\" where i live?\")],\n",
    "              \"language\":\"english\"\n",
    "}\n",
    ")\n",
    "response.content"
   ]
  },
  {
   "cell_type": "code",
   "execution_count": null,
   "id": "c5d58f8a",
   "metadata": {},
   "outputs": [],
   "source": []
  }
 ],
 "metadata": {
  "kernelspec": {
   "display_name": "venv",
   "language": "python",
   "name": "python3"
  },
  "language_info": {
   "codemirror_mode": {
    "name": "ipython",
    "version": 3
   },
   "file_extension": ".py",
   "mimetype": "text/x-python",
   "name": "python",
   "nbconvert_exporter": "python",
   "pygments_lexer": "ipython3",
   "version": "3.11.4"
  }
 },
 "nbformat": 4,
 "nbformat_minor": 5
}
