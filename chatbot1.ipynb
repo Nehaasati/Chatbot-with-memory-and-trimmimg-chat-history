{
 "cells": [
  {
   "cell_type": "code",
   "execution_count": 4,
   "id": "fbee45df",
   "metadata": {},
   "outputs": [],
   "source": [
    "import os\n",
    "import getpass\n",
    "from dotenv import load_dotenv\n",
    "from langchain_groq import ChatGroq\n",
    "from langchain_core.messages import HumanMessage\n",
    "from langchain_core.messages import AIMessage\n",
    "from langchain_core.chat_history import BaseChatMessageHistory\n",
    "from langchain_community.chat_message_histories import ChatMessageHistory\n",
    "from langchain_core.runnables.history import RunnableWithMessageHistory"
   ]
  },
  {
   "cell_type": "code",
   "execution_count": 5,
   "id": "46e8cef3",
   "metadata": {},
   "outputs": [],
   "source": [
    "load_dotenv()\n",
    "os.environ[\"Groq_API_KEY\"]=os.getenv(\"Groq_API_KEY\")\n",
    "os.environ[\"LANGCHAIN_API_KEY\"]=os.getenv(\"LANGCHAIN_API_KEY\")\n"
   ]
  },
  {
   "cell_type": "code",
   "execution_count": 6,
   "id": "d4503135",
   "metadata": {},
   "outputs": [
    {
     "data": {
      "text/plain": [
       "ChatGroq(client=<groq.resources.chat.completions.Completions object at 0x00000235CF75DE90>, async_client=<groq.resources.chat.completions.AsyncCompletions object at 0x00000235CF8A1DD0>, model_name='Gemma2-9b-It', model_kwargs={}, groq_api_key=SecretStr('**********'))"
      ]
     },
     "execution_count": 6,
     "metadata": {},
     "output_type": "execute_result"
    }
   ],
   "source": [
    "model=ChatGroq(model=\"Gemma2-9b-It\")\n",
    "model"
   ]
  },
  {
   "cell_type": "code",
   "execution_count": 7,
   "id": "a1987978",
   "metadata": {},
   "outputs": [
    {
     "data": {
      "text/plain": [
       "AIMessage(content=\"Hi Neha, it's nice to meet you!  \\n\\nThat's cool you're a software engineer in Sweden.  Is there anything in particular you enjoy working on?  What's it like living in Sweden?  \\n\\nI'm always interested to learn about people from different backgrounds and experiences.  😊\\n\\n\", additional_kwargs={}, response_metadata={'token_usage': {'completion_tokens': 71, 'prompt_tokens': 26, 'total_tokens': 97, 'completion_time': 0.129090909, 'prompt_time': 0.002026288, 'queue_time': 0.18415852700000002, 'total_time': 0.131117197}, 'model_name': 'Gemma2-9b-It', 'system_fingerprint': 'fp_10c08bf97d', 'service_tier': 'on_demand', 'finish_reason': 'stop', 'logprobs': None}, id='run--3ed82370-ca6b-49e4-9ca9-f3ab51332823-0', usage_metadata={'input_tokens': 26, 'output_tokens': 71, 'total_tokens': 97})"
      ]
     },
     "execution_count": 7,
     "metadata": {},
     "output_type": "execute_result"
    }
   ],
   "source": [
    "model.invoke([HumanMessage(content=\"Hi! my name is neha and i am software engineer and i live in sweden\")])\n"
   ]
  },
  {
   "cell_type": "code",
   "execution_count": 8,
   "id": "f4bdbafd",
   "metadata": {},
   "outputs": [
    {
     "data": {
      "text/plain": [
       "AIMessage(content=\"As a large language model, I don't have access to your personal information, including your location. To find out where you live, you can check:\\n\\n* **Your address:** Look at any mail, bills, or documents that have your address listed.\\n* **Your phone or internet settings:** Your device may have location services enabled, which can tell you your current location.\\n* **A map app:** Open a map app on your device and it will usually display your current location.\\n\", additional_kwargs={}, response_metadata={'token_usage': {'completion_tokens': 104, 'prompt_tokens': 14, 'total_tokens': 118, 'completion_time': 0.189090909, 'prompt_time': 0.001829428, 'queue_time': 0.186323749, 'total_time': 0.190920337}, 'model_name': 'Gemma2-9b-It', 'system_fingerprint': 'fp_10c08bf97d', 'service_tier': 'on_demand', 'finish_reason': 'stop', 'logprobs': None}, id='run--cb769d4c-ea6c-496f-a20c-1f8eb8d28dac-0', usage_metadata={'input_tokens': 14, 'output_tokens': 104, 'total_tokens': 118})"
      ]
     },
     "execution_count": 8,
     "metadata": {},
     "output_type": "execute_result"
    }
   ],
   "source": [
    "model.invoke([HumanMessage(content=\"where di i live?\")])"
   ]
  },
  {
   "cell_type": "code",
   "execution_count": 9,
   "id": "d6615c1f",
   "metadata": {},
   "outputs": [
    {
     "data": {
      "text/plain": [
       "AIMessage(content=\"You said you live in Sweden!  😊 \\n\\nIs there anything else you'd like to tell me about where you live? 🇸🇪  \\n\", additional_kwargs={}, response_metadata={'token_usage': {'completion_tokens': 34, 'prompt_tokens': 51, 'total_tokens': 85, 'completion_time': 0.061818182, 'prompt_time': 0.003432328, 'queue_time': 0.185357198, 'total_time': 0.06525051}, 'model_name': 'Gemma2-9b-It', 'system_fingerprint': 'fp_10c08bf97d', 'service_tier': 'on_demand', 'finish_reason': 'stop', 'logprobs': None}, id='run--88497b2f-6624-4d4b-af1b-ba99235caa8c-0', usage_metadata={'input_tokens': 51, 'output_tokens': 34, 'total_tokens': 85})"
      ]
     },
     "execution_count": 9,
     "metadata": {},
     "output_type": "execute_result"
    }
   ],
   "source": [
    "model.invoke(\n",
    "    [\n",
    "        HumanMessage(content=\"Hi i am neha and i am live in sweden\"),\n",
    "        AIMessage(content = \"Hi Neha, nice to meet you!i see that you live in seden\"),\n",
    "        HumanMessage(content=\"where i live?\")\n",
    "    ]\n",
    ")\n"
   ]
  },
  {
   "cell_type": "code",
   "execution_count": 27,
   "id": "a95638fa",
   "metadata": {},
   "outputs": [
    {
     "name": "stdout",
     "output_type": "stream",
     "text": [
      "bound=RunnableBinding(bound=RunnableBinding(bound=RunnableLambda(_enter_history), kwargs={}, config={'run_name': 'load_history'}, config_factories=[])\n",
      "| RunnableBinding(bound=RunnableLambda(_call_runnable_sync), kwargs={}, config={'run_name': 'check_sync_or_async'}, config_factories=[]), kwargs={}, config={'run_name': 'RunnableWithMessageHistory'}, config_factories=[]) kwargs={} config={} config_factories=[] get_session_history=<function get_chat_history at 0x00000235E8C38E00> history_factory_config=[ConfigurableFieldSpec(id='session_id', annotation=<class 'str'>, name='Session ID', description='Unique identifier for a session.', default='', is_shared=True, dependencies=None)]\n"
     ]
    }
   ],
   "source": [
    "store = {}\n",
    "def get_chat_history(session_id:str)-> BaseChatMessageHistory:\n",
    "    if session_id not in store:\n",
    "        store[session_id] =ChatMessageHistory(session_id=session_id)\n",
    "        \n",
    "        return store[session_id]\n",
    "    \n",
    "with_history_message = RunnableWithMessageHistory(model,get_chat_history)    \n",
    "print(with_history_message)"
   ]
  },
  {
   "cell_type": "code",
   "execution_count": 12,
   "id": "be0f5d22",
   "metadata": {},
   "outputs": [],
   "source": [
    "config ={\"configurable\":{\"session_id\":\"neha1\"}}"
   ]
  },
  {
   "cell_type": "code",
   "execution_count": 13,
   "id": "28b77252",
   "metadata": {},
   "outputs": [
    {
     "data": {
      "text/plain": [
       "AIMessage(content=\"Hello Neha,\\n\\nIt's nice to meet you! \\n\\nWelcome to Sweden!  Relocating to a new country can be a big adventure. How are you enjoying life in Sweden so far? \\n\\nBeing a software engineer, I'm sure you'll find plenty of opportunities in Sweden's thriving tech scene.  😊 \\n\\nIs there anything specific you'd like to talk about or ask me about Sweden? \\n\\n\", additional_kwargs={}, response_metadata={'token_usage': {'completion_tokens': 95, 'prompt_tokens': 43, 'total_tokens': 138, 'completion_time': 0.172727273, 'prompt_time': 0.002514278, 'queue_time': 0.18671257, 'total_time': 0.175241551}, 'model_name': 'Gemma2-9b-It', 'system_fingerprint': 'fp_10c08bf97d', 'service_tier': 'on_demand', 'finish_reason': 'stop', 'logprobs': None}, id='run--271de6c2-da3d-4f4f-abf9-5e6ddbccc0a2-0', usage_metadata={'input_tokens': 43, 'output_tokens': 95, 'total_tokens': 138})"
      ]
     },
     "execution_count": 13,
     "metadata": {},
     "output_type": "execute_result"
    }
   ],
   "source": [
    "response=with_history_message.invoke(\n",
    "    [HumanMessage(content =\"my name is neha  i am software engineer and i live in sweden , i am 36 yr old, 2022 i relocate to sweden.\")],\n",
    "    config=config\n",
    ")\n",
    "response"
   ]
  },
  {
   "cell_type": "code",
   "execution_count": 16,
   "id": "14e477dd",
   "metadata": {},
   "outputs": [],
   "source": [
    "response=with_history_message.invoke(\n",
    "    [HumanMessage(content =\"where i live?\")],\n",
    "    config=config\n",
    ")\n"
   ]
  },
  {
   "cell_type": "code",
   "execution_count": 22,
   "id": "4c2b3fc9",
   "metadata": {},
   "outputs": [
    {
     "data": {
      "text/plain": [
       "AIMessage(content=\"Hello Jarry! 👋 \\n\\nIt's nice to meet you. What can I do for you today? 😊 \\n\\n\", additional_kwargs={}, response_metadata={'token_usage': {'completion_tokens': 29, 'prompt_tokens': 13, 'total_tokens': 42, 'completion_time': 0.052727273, 'prompt_time': 0.001827729, 'queue_time': 0.188110007, 'total_time': 0.054555002}, 'model_name': 'Gemma2-9b-It', 'system_fingerprint': 'fp_10c08bf97d', 'service_tier': 'on_demand', 'finish_reason': 'stop', 'logprobs': None}, id='run--b33dc1e9-7c3f-4b79-a2e1-81ff156d1109-0', usage_metadata={'input_tokens': 13, 'output_tokens': 29, 'total_tokens': 42})"
      ]
     },
     "execution_count": 22,
     "metadata": {},
     "output_type": "execute_result"
    }
   ],
   "source": [
    "#change config session id\n",
    "\n",
    "config1 ={\"configurable\":{\"session_id\":\"neha2\"}}\n",
    "response1=with_history_message.invoke(\n",
    "    [HumanMessage(content=\"i an jarry\")],\n",
    "    config=config1\n",
    ")\n",
    "response1"
   ]
  },
  {
   "cell_type": "code",
   "execution_count": 26,
   "id": "19f8f0df",
   "metadata": {},
   "outputs": [
    {
     "ename": "NameError",
     "evalue": "name 'with_message_history' is not defined",
     "output_type": "error",
     "traceback": [
      "\u001b[31m---------------------------------------------------------------------------\u001b[39m",
      "\u001b[31mNameError\u001b[39m                                 Traceback (most recent call last)",
      "\u001b[36mCell\u001b[39m\u001b[36m \u001b[39m\u001b[32mIn[26]\u001b[39m\u001b[32m, line 1\u001b[39m\n\u001b[32m----> \u001b[39m\u001b[32m1\u001b[39m response=\u001b[43mwith_message_history\u001b[49m.invoke(\n\u001b[32m      2\u001b[39m     [HumanMessage(content=\u001b[33m\"\u001b[39m\u001b[33mWhats my name\u001b[39m\u001b[33m\"\u001b[39m)],\n\u001b[32m      3\u001b[39m     config=config1\n\u001b[32m      4\u001b[39m )\n\u001b[32m      5\u001b[39m response.content\n",
      "\u001b[31mNameError\u001b[39m: name 'with_message_history' is not defined"
     ]
    }
   ],
   "source": [
    "response=with_message_history.invoke(\n",
    "    [HumanMessage(content=\"Whats my name\")],\n",
    "    config=config1\n",
    ")\n",
    "response.content"
   ]
  }
 ],
 "metadata": {
  "kernelspec": {
   "display_name": "venv",
   "language": "python",
   "name": "python3"
  },
  "language_info": {
   "codemirror_mode": {
    "name": "ipython",
    "version": 3
   },
   "file_extension": ".py",
   "mimetype": "text/x-python",
   "name": "python",
   "nbconvert_exporter": "python",
   "pygments_lexer": "ipython3",
   "version": "3.11.4"
  }
 },
 "nbformat": 4,
 "nbformat_minor": 5
}
