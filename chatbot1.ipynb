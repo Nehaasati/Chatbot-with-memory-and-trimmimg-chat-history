{
 "cells": [
  {
   "cell_type": "code",
   "execution_count": 17,
   "id": "fbee45df",
   "metadata": {},
   "outputs": [],
   "source": [
    "import os\n",
    "import getpass\n",
    "from dotenv import load_dotenv\n",
    "from langchain_groq import ChatGroq\n",
    "from langchain_core.messages import HumanMessage\n",
    "from langchain_core.messages import AIMessage\n",
    "from langchain_core.chat_history import BaseChatMessageHistory\n",
    "from langchain_community.chat_message_histories import ChatMessageHistory\n",
    "from langchain_core.runnables.history import RunnableWithMessageHistory\n",
    "from langchain_core.prompts import ChatPromptTemplate,MessagesPlaceholder"
   ]
  },
  {
   "cell_type": "code",
   "execution_count": 18,
   "id": "46e8cef3",
   "metadata": {},
   "outputs": [],
   "source": [
    "load_dotenv()\n",
    "os.environ[\"Groq_API_KEY\"]=os.getenv(\"Groq_API_KEY\")\n",
    "os.environ[\"LANGCHAIN_API_KEY\"]=os.getenv(\"LANGCHAIN_API_KEY\")\n"
   ]
  },
  {
   "cell_type": "code",
   "execution_count": 19,
   "id": "d4503135",
   "metadata": {},
   "outputs": [
    {
     "data": {
      "text/plain": [
       "ChatGroq(client=<groq.resources.chat.completions.Completions object at 0x0000024C1E21C850>, async_client=<groq.resources.chat.completions.AsyncCompletions object at 0x0000024C1E438890>, model_name='Gemma2-9b-It', model_kwargs={}, groq_api_key=SecretStr('**********'))"
      ]
     },
     "execution_count": 19,
     "metadata": {},
     "output_type": "execute_result"
    }
   ],
   "source": [
    "model=ChatGroq(model=\"Gemma2-9b-It\")\n",
    "model"
   ]
  },
  {
   "cell_type": "code",
   "execution_count": 21,
   "id": "a1987978",
   "metadata": {},
   "outputs": [
    {
     "data": {
      "text/plain": [
       "AIMessage(content=\"Hello Neha!\\n\\nIt's nice to meet you. That's cool that you're a software engineer living in Sweden. \\n\\nWhat kind of software engineering do you specialize in? Do you enjoy the Swedish lifestyle? \\n\\nI'd love to hear more about you and your experiences. 😊  \\n\\n\", additional_kwargs={}, response_metadata={'token_usage': {'completion_tokens': 68, 'prompt_tokens': 26, 'total_tokens': 94, 'completion_time': 0.123636364, 'prompt_time': 0.005101338, 'queue_time': 0.38033843, 'total_time': 0.128737702}, 'model_name': 'Gemma2-9b-It', 'system_fingerprint': 'fp_10c08bf97d', 'service_tier': 'on_demand', 'finish_reason': 'stop', 'logprobs': None}, id='run--b9d4c1c0-a74f-453b-bc11-ab1f622891d5-0', usage_metadata={'input_tokens': 26, 'output_tokens': 68, 'total_tokens': 94})"
      ]
     },
     "execution_count": 21,
     "metadata": {},
     "output_type": "execute_result"
    }
   ],
   "source": [
    "model.invoke([HumanMessage(content=\"Hi! my name is neha and i am software engineer and i live in sweden\")])\n"
   ]
  },
  {
   "cell_type": "code",
   "execution_count": 20,
   "id": "f4bdbafd",
   "metadata": {},
   "outputs": [
    {
     "data": {
      "text/plain": [
       "AIMessage(content=\"As an AI, I don't have access to your personal information, including your location. To find out where you live, you could:\\n\\n* **Check your address on a piece of mail.**\\n* **Look at your phone's GPS location.**\\n* **Ask someone who knows where you live.**\\n\", additional_kwargs={}, response_metadata={'token_usage': {'completion_tokens': 67, 'prompt_tokens': 14, 'total_tokens': 81, 'completion_time': 0.121818182, 'prompt_time': 0.002077479, 'queue_time': 0.203011732, 'total_time': 0.123895661}, 'model_name': 'Gemma2-9b-It', 'system_fingerprint': 'fp_10c08bf97d', 'service_tier': 'on_demand', 'finish_reason': 'stop', 'logprobs': None}, id='run--270c199a-4ba6-4959-844c-54430a2cd7e5-0', usage_metadata={'input_tokens': 14, 'output_tokens': 67, 'total_tokens': 81})"
      ]
     },
     "execution_count": 20,
     "metadata": {},
     "output_type": "execute_result"
    }
   ],
   "source": [
    "model.invoke([HumanMessage(content=\"where di i live?\")])"
   ]
  },
  {
   "cell_type": "code",
   "execution_count": 22,
   "id": "d6615c1f",
   "metadata": {},
   "outputs": [
    {
     "data": {
      "text/plain": [
       "AIMessage(content=\"You said you live in Sweden! 🇸🇪 \\n\\nIs there something specific you'd like to know about living in Sweden? Perhaps I can help with some information. 😊 \\n\", additional_kwargs={}, response_metadata={'token_usage': {'completion_tokens': 40, 'prompt_tokens': 51, 'total_tokens': 91, 'completion_time': 0.072727273, 'prompt_time': 0.009721185, 'queue_time': 0.184580569, 'total_time': 0.082448458}, 'model_name': 'Gemma2-9b-It', 'system_fingerprint': 'fp_10c08bf97d', 'service_tier': 'on_demand', 'finish_reason': 'stop', 'logprobs': None}, id='run--0bcc26c6-7159-4ac2-844c-d364cde3560b-0', usage_metadata={'input_tokens': 51, 'output_tokens': 40, 'total_tokens': 91})"
      ]
     },
     "execution_count": 22,
     "metadata": {},
     "output_type": "execute_result"
    }
   ],
   "source": [
    "model.invoke(\n",
    "    [\n",
    "        HumanMessage(content=\"Hi i am neha and i am live in sweden\"),\n",
    "        AIMessage(content = \"Hi Neha, nice to meet you!i see that you live in seden\"),\n",
    "        HumanMessage(content=\"where i live?\")\n",
    "    ]\n",
    ")\n"
   ]
  },
  {
   "cell_type": "code",
   "execution_count": 26,
   "id": "a95638fa",
   "metadata": {},
   "outputs": [
    {
     "name": "stdout",
     "output_type": "stream",
     "text": [
      "bound=RunnableBinding(bound=RunnableBinding(bound=RunnableLambda(_enter_history), kwargs={}, config={'run_name': 'load_history'}, config_factories=[])\n",
      "| RunnableBinding(bound=RunnableLambda(_call_runnable_sync), kwargs={}, config={'run_name': 'check_sync_or_async'}, config_factories=[]), kwargs={}, config={'run_name': 'RunnableWithMessageHistory'}, config_factories=[]) kwargs={} config={} config_factories=[] get_session_history=<function get_chat_history at 0x0000024C1FF75A80> history_factory_config=[ConfigurableFieldSpec(id='session_id', annotation=<class 'str'>, name='Session ID', description='Unique identifier for a session.', default='', is_shared=True, dependencies=None)]\n"
     ]
    }
   ],
   "source": [
    "store = {}\n",
    "def get_chat_history(session_id:str)-> BaseChatMessageHistory:\n",
    "    if session_id not in store:\n",
    "        store[session_id] =ChatMessageHistory(session_id=session_id)\n",
    "    return store[session_id]\n",
    "    \n",
    "with_history_message = RunnableWithMessageHistory(model,get_chat_history)    \n",
    "print(with_history_message)"
   ]
  },
  {
   "cell_type": "code",
   "execution_count": 27,
   "id": "be0f5d22",
   "metadata": {},
   "outputs": [],
   "source": [
    "config ={\"configurable\":{\"session_id\":\"neha1\"}}"
   ]
  },
  {
   "cell_type": "code",
   "execution_count": 28,
   "id": "28b77252",
   "metadata": {},
   "outputs": [
    {
     "data": {
      "text/plain": [
       "AIMessage(content=\"It's nice to meet you, Neha! \\n\\nThat's interesting, relocating to Sweden in 2022 must have been quite an experience. What's been the biggest adjustment so far?\\n\\nAs a large language model, I'm always eager to learn about people's lives and experiences. \\n\\nPerhaps you could tell me more about what kind of software engineering you do, or what you enjoy doing in your free time now that you're in Sweden?\\n\", additional_kwargs={}, response_metadata={'token_usage': {'completion_tokens': 103, 'prompt_tokens': 43, 'total_tokens': 146, 'completion_time': 0.187272727, 'prompt_time': 0.002602759, 'queue_time': 0.185975418, 'total_time': 0.189875486}, 'model_name': 'Gemma2-9b-It', 'system_fingerprint': 'fp_10c08bf97d', 'service_tier': 'on_demand', 'finish_reason': 'stop', 'logprobs': None}, id='run--a12ec661-be23-4be1-9546-01a15475e9f9-0', usage_metadata={'input_tokens': 43, 'output_tokens': 103, 'total_tokens': 146})"
      ]
     },
     "execution_count": 28,
     "metadata": {},
     "output_type": "execute_result"
    }
   ],
   "source": [
    "response=with_history_message.invoke(\n",
    "    [HumanMessage(content =\"my name is neha  i am software engineer and i live in sweden , i am 36 yr old, 2022 i relocate to sweden.\")],\n",
    "    config=config\n",
    ")\n",
    "response"
   ]
  },
  {
   "cell_type": "code",
   "execution_count": 29,
   "id": "14e477dd",
   "metadata": {},
   "outputs": [],
   "source": [
    "response=with_history_message.invoke(\n",
    "    [HumanMessage(content =\"where i live?\")],\n",
    "    config=config\n",
    ")\n"
   ]
  },
  {
   "cell_type": "code",
   "execution_count": 30,
   "id": "4c2b3fc9",
   "metadata": {},
   "outputs": [
    {
     "data": {
      "text/plain": [
       "AIMessage(content=\"Hello Jarry! 👋 \\n\\nIt's nice to meet you. Is there anything I can help you with today? 😊 \\n\", additional_kwargs={}, response_metadata={'token_usage': {'completion_tokens': 30, 'prompt_tokens': 13, 'total_tokens': 43, 'completion_time': 0.054545455, 'prompt_time': 0.001908959, 'queue_time': 0.184249936, 'total_time': 0.056454414}, 'model_name': 'Gemma2-9b-It', 'system_fingerprint': 'fp_10c08bf97d', 'service_tier': 'on_demand', 'finish_reason': 'stop', 'logprobs': None}, id='run--96348429-b91a-4a4d-aaa2-a6f7dd3fdb58-0', usage_metadata={'input_tokens': 13, 'output_tokens': 30, 'total_tokens': 43})"
      ]
     },
     "execution_count": 30,
     "metadata": {},
     "output_type": "execute_result"
    }
   ],
   "source": [
    "#change config session id\n",
    "\n",
    "config1 ={\"configurable\":{\"session_id\":\"neha2\"}}\n",
    "response1=with_history_message.invoke(\n",
    "    [HumanMessage(content=\"i an jarry\")],\n",
    "    config=config1\n",
    ")\n",
    "response1"
   ]
  },
  {
   "cell_type": "code",
   "execution_count": 13,
   "id": "19f8f0df",
   "metadata": {},
   "outputs": [
    {
     "data": {
      "text/plain": [
       "'Your name is Jarry. 😊  \\n\\nI remembered!  \\n\\nAnything else I can help you with?\\n'"
      ]
     },
     "execution_count": 13,
     "metadata": {},
     "output_type": "execute_result"
    }
   ],
   "source": [
    "response=with_history_message.invoke(\n",
    "    [HumanMessage(content=\"Whats my name\")],\n",
    "    config=config1\n",
    ")\n",
    "response.content"
   ]
  },
  {
   "cell_type": "code",
   "execution_count": 31,
   "id": "7a81f9ad",
   "metadata": {},
   "outputs": [],
   "source": [
    "#PROMPT TEMPLATE\n",
    "\n",
    "prompt=ChatPromptTemplate.from_messages(\n",
    "    [\n",
    "        (\"system\",\"You are a helpful assistant.Amnswer all the question to the best of your ability\"),\n",
    "        MessagesPlaceholder(variable_name=\"messages\")\n",
    "    ]\n",
    ")\n",
    "chain = prompt| model\n"
   ]
  },
  {
   "cell_type": "code",
   "execution_count": 34,
   "id": "0075d340",
   "metadata": {},
   "outputs": [
    {
     "data": {
      "text/plain": [
       "AIMessage(content=\"Hello Neha, it's nice to meet you!\\n\\nI'm happy to help with any questions you have. Just ask away. 😊  What can I do for you today? \\n\\n\", additional_kwargs={}, response_metadata={'token_usage': {'completion_tokens': 44, 'prompt_tokens': 32, 'total_tokens': 76, 'completion_time': 0.08, 'prompt_time': 0.003353529, 'queue_time': 0.185652902, 'total_time': 0.083353529}, 'model_name': 'Gemma2-9b-It', 'system_fingerprint': 'fp_10c08bf97d', 'service_tier': 'on_demand', 'finish_reason': 'stop', 'logprobs': None}, id='run--1e93c73a-1bd3-49fa-ad3c-80a69e8440cc-0', usage_metadata={'input_tokens': 32, 'output_tokens': 44, 'total_tokens': 76})"
      ]
     },
     "execution_count": 34,
     "metadata": {},
     "output_type": "execute_result"
    }
   ],
   "source": [
    "chain.invoke({\"messages\":[HumanMessage(content=\"Hi My name is Neha\")]})"
   ]
  },
  {
   "cell_type": "code",
   "execution_count": 51,
   "id": "7de8826a",
   "metadata": {},
   "outputs": [],
   "source": [
    "with_history_message=RunnableWithMessageHistory(chain,get_chat_history,input_messages_key=\"messages\")"
   ]
  },
  {
   "cell_type": "code",
   "execution_count": null,
   "id": "61600e61",
   "metadata": {},
   "outputs": [
    {
     "name": "stdout",
     "output_type": "stream",
     "text": [
      "Hi Neha!  It's nice to meet you too.  \n",
      "\n",
      "What can I do for you today? 😊 \n",
      "\n",
      "\n"
     ]
    }
   ],
   "source": [
    "#i will not give lamngauge traslaton , we write in prompt\n",
    "config = {\"configurable\": {\"session_id\": \"chat4\"}}\n",
    "\n",
    "response = with_history_message.invoke(\n",
    "    {\n",
    "        'messages': HumanMessage(content=\"Hi, I am Neha\"),\n",
    "        'language': \"Hindi\"\n",
    "    },\n",
    "    config=config\n",
    ")\n",
    "\n",
    "print(response.content)"
   ]
  },
  {
   "cell_type": "code",
   "execution_count": 54,
   "id": "6b1e661b",
   "metadata": {},
   "outputs": [],
   "source": [
    "## Add more complexity\n",
    "\n",
    "prompt = ChatPromptTemplate.from_messages(\n",
    "    [\n",
    "        (\n",
    "            \"system\",\n",
    "            \"You are a helpful assistant. Answer all questions to the best of your ability in {language}.\",\n",
    "        ),\n",
    "        MessagesPlaceholder(variable_name=\"messages\"),\n",
    "    ]\n",
    ")\n",
    "\n",
    "chain = prompt | model"
   ]
  },
  {
   "cell_type": "code",
   "execution_count": 55,
   "id": "198dea15",
   "metadata": {},
   "outputs": [
    {
     "data": {
      "text/plain": [
       "'नमस्ते नेहा! 👋\\n\\nमुझे बहुत खुशी है कि आपने मुझसे बात करना चाहा। \\n\\nआपसे क्या पूछना चाहते हैं? \\n\\nमैं अपनी पूरी कोशिश करूंगा ताकि मैं आपकी मदद कर सकूं।  😊\\n'"
      ]
     },
     "execution_count": 55,
     "metadata": {},
     "output_type": "execute_result"
    }
   ],
   "source": [
    "response=chain.invoke({\"messages\":[HumanMessage(content=\"Hi My name is neha\")],\"language\":\"Hindi\"})\n",
    "response.content"
   ]
  },
  {
   "cell_type": "code",
   "execution_count": 57,
   "id": "fd54b266",
   "metadata": {},
   "outputs": [],
   "source": [
    "with_history_message =RunnableWithMessageHistory(chain,get_chat_history, input_messages_key=\"messages\")"
   ]
  },
  {
   "cell_type": "code",
   "execution_count": 58,
   "id": "788ce246",
   "metadata": {},
   "outputs": [
    {
     "data": {
      "text/plain": [
       "'Hej Neha! Det är roligt att träffas. Vad kan jag hjälpa dig med? 😊 \\n'"
      ]
     },
     "execution_count": 58,
     "metadata": {},
     "output_type": "execute_result"
    }
   ],
   "source": [
    "config ={\"configurable\":{\"session_id\":\"chat5\"}}\n",
    "response = with_history_message.invoke({\"messages\":[HumanMessage(content=\"hi my anme is neha\")],\"language\":\"swedish\"}\n",
    "                                       ,config=config)\n",
    "response.content"
   ]
  },
  {
   "cell_type": "code",
   "execution_count": null,
   "id": "e2ec327d",
   "metadata": {},
   "outputs": [
    {
     "data": {
      "text/plain": [
       "'Ditt namn är Neha.  \\n'"
      ]
     },
     "execution_count": 60,
     "metadata": {},
     "output_type": "execute_result"
    }
   ],
   "source": [
    "response  = with_history_message.invoke({\"messages\":[HumanMessage(content=\"what is my name?\")],\"language\":\"swedish\"},config=config)\n",
    "response.content"
   ]
  }
 ],
 "metadata": {
  "kernelspec": {
   "display_name": "venv",
   "language": "python",
   "name": "python3"
  },
  "language_info": {
   "codemirror_mode": {
    "name": "ipython",
    "version": 3
   },
   "file_extension": ".py",
   "mimetype": "text/x-python",
   "name": "python",
   "nbconvert_exporter": "python",
   "pygments_lexer": "ipython3",
   "version": "3.11.4"
  }
 },
 "nbformat": 4,
 "nbformat_minor": 5
}
